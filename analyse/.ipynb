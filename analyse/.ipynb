{
 "cells": [
  {
   "cell_type": "code",
   "execution_count": 1,
   "metadata": {},
   "outputs": [],
   "source": [
    "import json\n",
    "from dataclasses import dataclass, field\n",
    "from typing import List, Optional\n",
    "\n",
    "@dataclass\n",
    "class Contact:\n",
    "    TABLENAME: str = \"contacts\"\n",
    "    SYSTEMNAME: str = \"systemname\"\n",
    "    SERVERNAME: str = \"servername\"\n",
    "    PRESENCE_NAME: str = \"presence_name\"\n",
    "    JID: str = \"jid\"\n",
    "    OPTIONS: str = \"options\"\n",
    "    SYSTEMACCOUNT: str = \"systemaccount\"\n",
    "    PHOTOURI: str = \"photouri\"\n",
    "    KEYS: str = \"pgpkey\"\n",
    "    ACCOUNT: str = \"accountUuid\"\n",
    "    AVATAR: str = \"avatar\"\n",
    "    LAST_PRESENCE: str = \"last_presence\"\n",
    "    LAST_TIME: str = \"last_time\"\n",
    "    GROUPS: str = \"groups\"\n",
    "    RTP_CAPABILITY: str = \"rtpCapability\"\n",
    "\n",
    "    account_uuid: Optional[str] = None\n",
    "    system_name: Optional[str] = None\n",
    "    server_name: Optional[str] = None\n",
    "    presence_name: Optional[str] = None\n",
    "    common_name: Optional[str] = None\n",
    "    jid: Optional[str] = None\n",
    "    subscription: int = 0\n",
    "    system_account: Optional[str] = None\n",
    "    photo_uri: Optional[str] = None\n",
    "    keys: dict = field(default_factory=dict)\n",
    "    groups: List[str] = field(default_factory=list)\n",
    "    presences: dict = field(default_factory=dict)\n",
    "    account: Optional[str] = None\n",
    "    avatar: Optional[str] = None\n",
    "\n",
    "    m_active: bool = False\n",
    "    m_lastseen: int = 0\n",
    "    m_last_presence: Optional[str] = None\n",
    "    rtp_capability: Optional[str] = None\n",
    "\n",
    "@dataclass\n",
    "class Account:\n",
    "    TABLENAME: str = \"accounts\"\n",
    "    \n",
    "    UUID: str = \"uuid\" # from abstractEntity\n",
    "\n",
    "    USERNAME: str = \"username\"\n",
    "    SERVER: str = \"server\"\n",
    "    PASSWORD: str = \"password\"\n",
    "    OPTIONS: str = \"options\"\n",
    "    ROSTERVERSION: str = \"rosterversion\"\n",
    "    KEYS: str = \"keys\"\n",
    "    AVATAR: str = \"avatar\"\n",
    "    DISPLAY_NAME: str = \"display_name\"\n",
    "    HOSTNAME: str = \"hostname\"\n",
    "    PORT: str = \"port\"\n",
    "    STATUS: str = \"status\"\n",
    "    STATUS_MESSAGE: str = \"status_message\"\n",
    "    RESOURCE: str = \"resource\"\n",
    "    PINNED_MECHANISM: str = \"pinned_mechanism\"\n",
    "    PINNED_CHANNEL_BINDING: str = \"pinned_channel_binding\"\n",
    "    FAST_MECHANISM: str = \"fast_mechanism\"\n",
    "    FAST_TOKEN: str = \"fast_token\"\n",
    "\n",
    "    OPTION_DISABLED: int = 1\n",
    "    OPTION_REGISTER: int = 2\n",
    "    OPTION_MAGIC_CREATE: int = 4\n",
    "    OPTION_REQUIRES_ACCESS_MODE_CHANGE: int = 5\n",
    "    OPTION_LOGGED_IN_SUCCESSFULLY: int = 6\n",
    "    OPTION_HTTP_UPLOAD_AVAILABLE: int = 7\n",
    "    OPTION_UNVERIFIED: int = 8\n",
    "    OPTION_FIXED_USERNAME: int = 9\n",
    "    OPTION_QUICKSTART_AVAILABLE: int = 10\n",
    "    OPTION_SOFT_DISABLED: int = 11\n",
    "\n",
    "    KEY_PGP_SIGNATURE: str = \"pgp_signature\"\n",
    "    KEY_PGP_ID: str = \"pgp_id\"\n",
    "    KEY_PINNED_MECHANISM: str = \"pinned_mechanism\"\n",
    "    KEY_PRE_AUTH_REGISTRATION_TOKEN: str = \"pre_auth_registration\"\n",
    "\n",
    "@dataclass\n",
    "class Conversation:\n",
    "    TABLENAME: str = \"conversations\"\n",
    "\n",
    "    STATUS_AVAILABLE: int = 0\n",
    "    STATUS_ARCHIVED: int = 1\n",
    "    \n",
    "    UUID: str = \"uuid\" # from abstractEntity\n",
    "\n",
    "    NAME: str = \"name\"\n",
    "    ACCOUNT: str = \"accountUuid\"\n",
    "    CONTACT: str = \"contactUuid\"\n",
    "    CONTACTJID: str = \"contactJid\"\n",
    "    STATUS: str = \"status\"\n",
    "    CREATED: str = \"created\"\n",
    "    MODE: str = \"mode\"\n",
    "    ATTRIBUTES: str = \"attributes\"\n",
    "\n",
    "    ATTRIBUTE_MUTED_TILL: str = \"muted_till\"\n",
    "    ATTRIBUTE_ALWAYS_NOTIFY: str = \"always_notify\"\n",
    "    ATTRIBUTE_LAST_CLEAR_HISTORY: str = \"last_clear_history\"\n",
    "    ATTRIBUTE_FORMERLY_PRIVATE_NON_ANONYMOUS: str = \"formerly_private_non_anonymous\"\n",
    "    ATTRIBUTE_PINNED_ON_TOP: str = \"pinned_on_top\"\n",
    "    ATTRIBUTE_MUC_PASSWORD: str = \"muc_password\"\n",
    "    ATTRIBUTE_MEMBERS_ONLY: str = \"members_only\"\n",
    "    ATTRIBUTE_MODERATED: str = \"moderated\"\n",
    "    ATTRIBUTE_NON_ANONYMOUS: str = \"non_anonymous\"\n",
    "    ATTRIBUTE_NEXT_MESSAGE: str = \"next_message\"\n",
    "    ATTRIBUTE_NEXT_MESSAGE_TIMESTAMP: str = \"next_message_timestamp\"\n",
    "    ATTRIBUTE_CRYPTO_TARGETS: str = \"crypto_targets\"\n",
    "    ATTRIBUTE_NEXT_ENCRYPTION: str = \"next_encryption\"\n",
    "    ATTRIBUTE_CORRECTING_MESSAGE: str = \"correcting_message\"\n",
    "\n",
    "@dataclass\n",
    "class Message:\n",
    "    UUID: str = \"uuid\" # from abstractEntity\n",
    "    TABLENAME: str = \"messages\"\n",
    "    CONVERSATION: str = \"conversationUuid\"\n",
    "    COUNTERPART: str = \"counterpart\"\n",
    "    TRUE_COUNTERPART: str = \"trueCounterpart\"\n",
    "    BODY: str = \"body\"\n",
    "    BODY_LANGUAGE: str = \"bodyLanguage\"\n",
    "    TIME_SENT: str = \"timeSent\"\n",
    "    ENCRYPTION: str = \"encryption\"\n",
    "    STATUS: str = \"status\"\n",
    "    TYPE: str = \"type\"\n",
    "    CARBON: str = \"carbon\"\n",
    "    OOB: str = \"oob\"\n",
    "    EDITED: str = \"edited\"\n",
    "    REMOTE_MSG_ID: str = \"remoteMsgId\"\n",
    "    SERVER_MSG_ID: str = \"serverMsgId\"\n",
    "    RELATIVE_FILE_PATH: str = \"relativeFilePath\"\n",
    "    FINGERPRINT: str = \"axolotl_fingerprint\"\n",
    "    READ: str = \"read\"\n",
    "    ERROR_MESSAGE: str = \"errorMsg\"\n",
    "    READ_BY_MARKERS: str = \"readByMarkers\"\n",
    "    MARKABLE: str = \"markable\"\n",
    "    DELETED: str = \"deleted\"\n",
    "    OCCUPANT_ID: str = \"occupantId\"\n",
    "    REACTIONS: str = \"reactions\"\n",
    "    ME_COMMAND: str = \"/me \"\n",
    "\n",
    "@dataclass\n",
    "class SQLiteAxolotlStore:\n",
    "    PREKEY_TABLENAME = \"prekeys\"\n",
    "    SIGNED_PREKEY_TABLENAME = \"signed_prekeys\"\n",
    "    SESSION_TABLENAME = \"sessions\"\n",
    "    IDENTITIES_TABLENAME = \"identities\"\n",
    "    ACCOUNT = \"account\"\n",
    "    DEVICE_ID = \"device_id\"\n",
    "    ID = \"id\"\n",
    "    KEY = \"key\"\n",
    "    FINGERPRINT = \"fingerprint\"\n",
    "    NAME = \"name\"\n",
    "    TRUSTED = \"trusted\"  # no longer used\n",
    "    TRUST = \"trust\"\n",
    "    ACTIVE = \"active\"\n",
    "    LAST_ACTIVATION = \"last_activation\"\n",
    "    OWN = \"ownkey\"\n",
    "    CERTIFICATE = \"certificate\"\n",
    "\n",
    "    JSONKEY_REGISTRATION_ID = \"axolotl_reg_id\"\n",
    "    JSONKEY_CURRENT_PREKEY_ID = \"axolotl_cur_prekey_id\"\n",
    "\n",
    "    NUM_TRUSTS_TO_CACHE = 100\n",
    "\n",
    "@dataclass\n",
    "class Resolver:\n",
    "    @dataclass\n",
    "    class Result:\n",
    "        DOMAIN = \"domain\"\n",
    "        IP = \"ip\"\n",
    "        HOSTNAME = \"hostname\"\n",
    "        PORT = \"port\"\n",
    "        PRIORITY = \"priority\"\n",
    "        DIRECT_TLS = \"directTls\"\n",
    "        AUTHENTICATED = \"authenticated\"\n",
    "\n",
    "RESOLVER_RESULTS_TABLENAME = \"resolver_results\"\n",
    "\n",
    "@dataclass\n",
    "class ServiceDiscoveryResult:\n",
    "    TABLENAME = \"discovery_results\"\n",
    "    HASH = \"hash\"\n",
    "    VER = \"ver\"\n",
    "    RESULT = \"result\"\n",
    "\n",
    "@dataclass\n",
    "class PresenceTemplate:\n",
    "    UUID: str = \"uuid\" # from abstractEntity\n",
    "    TABELNAME = \"presence_templates\"\n",
    "    LAST_USED = \"last_used\"\n",
    "    MESSAGE = \"message\"\n",
    "    STATUS = \"status\""
   ]
  },
  {
   "cell_type": "markdown",
   "metadata": {},
   "source": [
    "## Contact"
   ]
  },
  {
   "cell_type": "code",
   "execution_count": 2,
   "metadata": {},
   "outputs": [
    {
     "name": "stdout",
     "output_type": "stream",
     "text": [
      "create table contacts(accountUuid TEXT, servername TEXT, systemname TEXT,presence_name TEXT,jid TEXT,pgpkey TEXT,photouri TEXT,options NUMBER,systemaccount NUMBER, avatar TEXT, last_presence TEXT, last_time NUMBER, rtpCapability TEXT,groups TEXT, FOREIGN KEY(accountUuid) REFERENCES accounts(uuid) ON DELETE CASCADE, UNIQUE(accountUuid, jid) ON CONFLICT REPLACE);\n"
     ]
    }
   ],
   "source": [
    "print(\"create table \"+ Contact.TABLENAME + \"(\" + Contact.ACCOUNT + \" TEXT, \"+ Contact.SERVERNAME + \" TEXT, \" + Contact.SYSTEMNAME + \" TEXT,\"+ Contact.PRESENCE_NAME + \" TEXT,\"+ Contact.JID + \" TEXT,\" + Contact.KEYS + \" TEXT,\"+ Contact.PHOTOURI + \" TEXT,\" + Contact.OPTIONS + \" NUMBER,\"+ Contact.SYSTEMACCOUNT + \" NUMBER, \" + Contact.AVATAR + \" TEXT, \"+ Contact.LAST_PRESENCE + \" TEXT, \" + Contact.LAST_TIME + \" NUMBER, \"+ Contact.RTP_CAPABILITY + \" TEXT,\"+ Contact.GROUPS + \" TEXT, FOREIGN KEY(\" + Contact.ACCOUNT + \") REFERENCES \"+ Account.TABLENAME + \"(\" + Account.UUID+ \") ON DELETE CASCADE, UNIQUE(\" + Contact.ACCOUNT + \", \"+ Contact.JID + \") ON CONFLICT REPLACE);\")"
   ]
  },
  {
   "cell_type": "code",
   "execution_count": 3,
   "metadata": {},
   "outputs": [
    {
     "name": "stdout",
     "output_type": "stream",
     "text": [
      "ALTER TABLE contacts ADD COLUMN presence_name TEXT\n"
     ]
    }
   ],
   "source": [
    "print(\"ALTER TABLE \" + Contact.TABLENAME + \" ADD COLUMN \" + Contact.PRESENCE_NAME + \" TEXT\")"
   ]
  },
  {
   "cell_type": "code",
   "execution_count": 4,
   "metadata": {},
   "outputs": [
    {
     "name": "stdout",
     "output_type": "stream",
     "text": [
      "ALTER TABLE contacts ADD COLUMN rtpCapability TEXT\n"
     ]
    }
   ],
   "source": [
    "print(\"ALTER TABLE \" + Contact.TABLENAME + \" ADD COLUMN \" + Contact.RTP_CAPABILITY + \" TEXT\")"
   ]
  },
  {
   "cell_type": "markdown",
   "metadata": {},
   "source": [
    "## Account"
   ]
  },
  {
   "cell_type": "code",
   "execution_count": 5,
   "metadata": {},
   "outputs": [
    {
     "name": "stdout",
     "output_type": "stream",
     "text": [
      "create table accounts(uuid TEXT PRIMARY KEY,username TEXT,server TEXT,password TEXT,display_name TEXT, status TEXT,status_message TEXT,rosterversion TEXT,options NUMBER, avatar TEXT, keys TEXT, hostname TEXT, resource TEXT,pinned_mechanism TEXT,pinned_channel_binding TEXT,fast_mechanism TEXT,fast_token TEXT,port NUMBER DEFAULT 5222)\n"
     ]
    }
   ],
   "source": [
    "print(\"create table \" + Account.TABLENAME + \"(\" + Account.UUID + \" TEXT PRIMARY KEY,\"+ Account.USERNAME + \" TEXT,\"+ Account.SERVER + \" TEXT,\"+ Account.PASSWORD + \" TEXT,\"+ Account.DISPLAY_NAME + \" TEXT, \"+ Account.STATUS + \" TEXT,\"+ Account.STATUS_MESSAGE + \" TEXT,\"+ Account.ROSTERVERSION + \" TEXT,\"+ Account.OPTIONS + \" NUMBER, \"+ Account.AVATAR + \" TEXT, \"+ Account.KEYS + \" TEXT, \"+ Account.HOSTNAME + \" TEXT, \"+ Account.RESOURCE + \" TEXT,\"+ Account.PINNED_MECHANISM + \" TEXT,\"+ Account.PINNED_CHANNEL_BINDING + \" TEXT,\"+ Account.FAST_MECHANISM + \" TEXT,\"+ Account.FAST_TOKEN + \" TEXT,\"+ Account.PORT + \" NUMBER DEFAULT 5222)\")"
   ]
  },
  {
   "cell_type": "code",
   "execution_count": 6,
   "metadata": {},
   "outputs": [
    {
     "name": "stdout",
     "output_type": "stream",
     "text": [
      "ALTER TABLE accounts ADD COLUMN avatar TEXT\n"
     ]
    }
   ],
   "source": [
    "print(\"ALTER TABLE \" + Account.TABLENAME + \" ADD COLUMN \" + Account.AVATAR + \" TEXT\")"
   ]
  },
  {
   "cell_type": "code",
   "execution_count": 7,
   "metadata": {},
   "outputs": [
    {
     "name": "stdout",
     "output_type": "stream",
     "text": [
      "ALTER TABLE accounts ADD COLUMN hostname TEXT\n"
     ]
    }
   ],
   "source": [
    "print(\"ALTER TABLE \" + Account.TABLENAME + \" ADD COLUMN \" + Account.HOSTNAME + \" TEXT\")"
   ]
  },
  {
   "cell_type": "code",
   "execution_count": 8,
   "metadata": {},
   "outputs": [
    {
     "name": "stdout",
     "output_type": "stream",
     "text": [
      "ALTER TABLE accounts ADD COLUMN port NUMBER DEFAULT 5222\n"
     ]
    }
   ],
   "source": [
    "print(\"ALTER TABLE \" + Account.TABLENAME + \" ADD COLUMN \" + Account.PORT + \" NUMBER DEFAULT 5222\")"
   ]
  },
  {
   "cell_type": "code",
   "execution_count": 9,
   "metadata": {},
   "outputs": [
    {
     "name": "stdout",
     "output_type": "stream",
     "text": [
      "ALTER TABLE accounts ADD COLUMN status TEXT\n"
     ]
    }
   ],
   "source": [
    "print(\"ALTER TABLE \" + Account.TABLENAME + \" ADD COLUMN \" + Account.STATUS + \" TEXT\")"
   ]
  },
  {
   "cell_type": "code",
   "execution_count": 10,
   "metadata": {},
   "outputs": [
    {
     "name": "stdout",
     "output_type": "stream",
     "text": [
      "ALTER TABLE accounts ADD COLUMN status_message TEXT\n"
     ]
    }
   ],
   "source": [
    "print(\"ALTER TABLE \" + Account.TABLENAME + \" ADD COLUMN \" + Account.STATUS_MESSAGE + \" TEXT\")"
   ]
  },
  {
   "cell_type": "code",
   "execution_count": 11,
   "metadata": {},
   "outputs": [
    {
     "name": "stdout",
     "output_type": "stream",
     "text": [
      "ALTER TABLE accounts ADD COLUMN resource TEXT\n"
     ]
    }
   ],
   "source": [
    "print(\"ALTER TABLE \" + Account.TABLENAME + \" ADD COLUMN \" + Account.RESOURCE + \" TEXT\")"
   ]
  },
  {
   "cell_type": "code",
   "execution_count": 12,
   "metadata": {},
   "outputs": [
    {
     "name": "stdout",
     "output_type": "stream",
     "text": [
      "ALTER TABLE accounts ADD COLUMN pinned_mechanism TEXT\n"
     ]
    }
   ],
   "source": [
    "print(\"ALTER TABLE \" + Account.TABLENAME + \" ADD COLUMN \" + Account.PINNED_MECHANISM + \" TEXT\")"
   ]
  },
  {
   "cell_type": "code",
   "execution_count": 13,
   "metadata": {},
   "outputs": [
    {
     "name": "stdout",
     "output_type": "stream",
     "text": [
      "ALTER TABLE accounts ADD COLUMN pinned_channel_binding TEXT\n"
     ]
    }
   ],
   "source": [
    "print(\"ALTER TABLE \" + Account.TABLENAME + \" ADD COLUMN \" + Account.PINNED_CHANNEL_BINDING + \" TEXT\")"
   ]
  },
  {
   "cell_type": "code",
   "execution_count": 14,
   "metadata": {},
   "outputs": [
    {
     "name": "stdout",
     "output_type": "stream",
     "text": [
      "ALTER TABLE accounts ADD COLUMN fast_mechanism TEXT\n"
     ]
    }
   ],
   "source": [
    "print(\"ALTER TABLE \" + Account.TABLENAME + \" ADD COLUMN \" + Account.FAST_MECHANISM + \" TEXT\")"
   ]
  },
  {
   "cell_type": "code",
   "execution_count": 15,
   "metadata": {},
   "outputs": [
    {
     "name": "stdout",
     "output_type": "stream",
     "text": [
      "ALTER TABLE accounts ADD COLUMN fast_token TEXT\n"
     ]
    }
   ],
   "source": [
    "print(\"ALTER TABLE \" + Account.TABLENAME + \" ADD COLUMN \" + Account.FAST_TOKEN + \" TEXT\")"
   ]
  },
  {
   "cell_type": "markdown",
   "metadata": {},
   "source": [
    "## Conversation"
   ]
  },
  {
   "cell_type": "code",
   "execution_count": 16,
   "metadata": {},
   "outputs": [
    {
     "name": "stdout",
     "output_type": "stream",
     "text": [
      "create table conversations (uuid TEXT PRIMARY KEY, name TEXT, contactUuid TEXT, accountUuid TEXT, contactJid TEXT, created NUMBER, status NUMBER, mode NUMBER, attributes TEXT, FOREIGN KEY(accountUuid) REFERENCES accounts(uuid) ON DELETE CASCADE);\n"
     ]
    }
   ],
   "source": [
    "print(\"create table \" + Conversation.TABLENAME + \" (\" + Conversation.UUID + \" TEXT PRIMARY KEY, \" + Conversation.NAME+ \" TEXT, \" + Conversation.CONTACT + \" TEXT, \"+ Conversation.ACCOUNT + \" TEXT, \" + Conversation.CONTACTJID+ \" TEXT, \" + Conversation.CREATED + \" NUMBER, \"+ Conversation.STATUS + \" NUMBER, \" + Conversation.MODE+ \" NUMBER, \" + Conversation.ATTRIBUTES + \" TEXT, FOREIGN KEY(\"+ Conversation.ACCOUNT + \") REFERENCES \" + Account.TABLENAME+ \"(\" + Account.UUID + \") ON DELETE CASCADE);\")"
   ]
  },
  {
   "cell_type": "code",
   "execution_count": 17,
   "metadata": {},
   "outputs": [
    {
     "name": "stdout",
     "output_type": "stream",
     "text": [
      "ALTER TABLE conversations ADD COLUMN attributes TEXT\n"
     ]
    }
   ],
   "source": [
    "print(\"ALTER TABLE \" + Conversation.TABLENAME + \" ADD COLUMN \" + Conversation.ATTRIBUTES + \" TEXT\")"
   ]
  },
  {
   "cell_type": "markdown",
   "metadata": {},
   "source": [
    "## Message"
   ]
  },
  {
   "cell_type": "code",
   "execution_count": 18,
   "metadata": {},
   "outputs": [
    {
     "name": "stdout",
     "output_type": "stream",
     "text": [
      "create table messages( uuid TEXT PRIMARY KEY, conversationUuid TEXT, timeSent NUMBER, counterpart TEXT, trueCounterpart TEXT,body TEXT, encryption NUMBER, status NUMBER,type NUMBER, relativeFilePath TEXT, serverMsgId TEXT, axolotl_fingerprint TEXT, carbon INTEGER, edited TEXT, read NUMBER DEFAULT 1, oob INTEGER, errorMsg TEXT,readByMarkers TEXT,markable NUMBER DEFAULT 0,deleted NUMBER DEFAULT 0,bodyLanguage TEXT,occupantId TEXT,reactions TEXT,remoteMsgId TEXT, FOREIGN KEY(conversationUuid) REFERENCES conversations(uuid) ON DELETE CASCADE);\n"
     ]
    }
   ],
   "source": [
    "print(\"create table \" + Message.TABLENAME + \"( \" + Message.UUID\n",
    "    + \" TEXT PRIMARY KEY, \" + Message.CONVERSATION + \" TEXT, \"\n",
    "    + Message.TIME_SENT + \" NUMBER, \" + Message.COUNTERPART\n",
    "    + \" TEXT, \" + Message.TRUE_COUNTERPART + \" TEXT,\"\n",
    "    + Message.BODY + \" TEXT, \" + Message.ENCRYPTION + \" NUMBER, \"\n",
    "    + Message.STATUS + \" NUMBER,\" + Message.TYPE + \" NUMBER, \"\n",
    "    + Message.RELATIVE_FILE_PATH + \" TEXT, \"\n",
    "    + Message.SERVER_MSG_ID + \" TEXT, \"\n",
    "    + Message.FINGERPRINT + \" TEXT, \"\n",
    "    + Message.CARBON + \" INTEGER, \"\n",
    "    + Message.EDITED + \" TEXT, \"\n",
    "    + Message.READ + \" NUMBER DEFAULT 1, \"\n",
    "    + Message.OOB + \" INTEGER, \"\n",
    "    + Message.ERROR_MESSAGE + \" TEXT,\"\n",
    "    + Message.READ_BY_MARKERS + \" TEXT,\"\n",
    "    + Message.MARKABLE + \" NUMBER DEFAULT 0,\"\n",
    "    + Message.DELETED + \" NUMBER DEFAULT 0,\"\n",
    "    + Message.BODY_LANGUAGE + \" TEXT,\"\n",
    "    + Message.OCCUPANT_ID + \" TEXT,\"\n",
    "    + Message.REACTIONS + \" TEXT,\"\n",
    "    + Message.REMOTE_MSG_ID + \" TEXT, FOREIGN KEY(\"\n",
    "    + Message.CONVERSATION + \") REFERENCES \"\n",
    "    + Conversation.TABLENAME + \"(\" + Conversation.UUID\n",
    "    + \") ON DELETE CASCADE);\")"
   ]
  },
  {
   "cell_type": "code",
   "execution_count": 19,
   "metadata": {},
   "outputs": [
    {
     "name": "stdout",
     "output_type": "stream",
     "text": [
      "ALTER TABLE messages ADD COLUMN type NUMBER\n"
     ]
    }
   ],
   "source": [
    "print(\"ALTER TABLE \" + Message.TABLENAME + \" ADD COLUMN \" + Message.TYPE + \" NUMBER\")"
   ]
  },
  {
   "cell_type": "code",
   "execution_count": 20,
   "metadata": {},
   "outputs": [
    {
     "name": "stdout",
     "output_type": "stream",
     "text": [
      "ALTER TABLE messages ADD COLUMN trueCounterpart TEXT\n"
     ]
    }
   ],
   "source": [
    "print(\"ALTER TABLE \" + Message.TABLENAME + \" ADD COLUMN \" + Message.TRUE_COUNTERPART + \" TEXT\")"
   ]
  },
  {
   "cell_type": "code",
   "execution_count": 21,
   "metadata": {},
   "outputs": [
    {
     "name": "stdout",
     "output_type": "stream",
     "text": [
      "ALTER TABLE messages ADD COLUMN relativeFilePath TEXT\n"
     ]
    }
   ],
   "source": [
    "print(\"ALTER TABLE \" + Message.TABLENAME + \" ADD COLUMN \" + Message.RELATIVE_FILE_PATH + \" TEXT\")"
   ]
  },
  {
   "cell_type": "code",
   "execution_count": 22,
   "metadata": {},
   "outputs": [
    {
     "name": "stdout",
     "output_type": "stream",
     "text": [
      "ALTER TABLE messages ADD COLUMN serverMsgId TEXT\n"
     ]
    }
   ],
   "source": [
    "print(\"ALTER TABLE \" + Message.TABLENAME + \" ADD COLUMN \" + Message.SERVER_MSG_ID + \" TEXT\")"
   ]
  },
  {
   "cell_type": "code",
   "execution_count": 23,
   "metadata": {},
   "outputs": [
    {
     "name": "stdout",
     "output_type": "stream",
     "text": [
      "ALTER TABLE messages ADD COLUMN axolotl_fingerprint TEXT\n"
     ]
    }
   ],
   "source": [
    "print(\"ALTER TABLE \" + Message.TABLENAME + \" ADD COLUMN \" + Message.FINGERPRINT + \" TEXT\")"
   ]
  },
  {
   "cell_type": "code",
   "execution_count": 24,
   "metadata": {},
   "outputs": [
    {
     "name": "stdout",
     "output_type": "stream",
     "text": [
      "ALTER TABLE messages ADD COLUMN carbon INTEGER\n"
     ]
    }
   ],
   "source": [
    "print(\"ALTER TABLE \" + Message.TABLENAME + \" ADD COLUMN \" + Message.CARBON + \" INTEGER\")"
   ]
  },
  {
   "cell_type": "code",
   "execution_count": 25,
   "metadata": {},
   "outputs": [
    {
     "name": "stdout",
     "output_type": "stream",
     "text": [
      "ALTER TABLE messages ADD COLUMN read NUMBER DEFAULT 1\n"
     ]
    }
   ],
   "source": [
    "print(\"ALTER TABLE \" + Message.TABLENAME + \" ADD COLUMN \" + Message.READ + \" NUMBER DEFAULT 1\")"
   ]
  },
  {
   "cell_type": "code",
   "execution_count": 26,
   "metadata": {},
   "outputs": [
    {
     "name": "stdout",
     "output_type": "stream",
     "text": [
      "ALTER TABLE messages ADD COLUMN edited TEXT\n"
     ]
    }
   ],
   "source": [
    "print(\"ALTER TABLE \" + Message.TABLENAME + \" ADD COLUMN \" + Message.EDITED + \" TEXT\")"
   ]
  },
  {
   "cell_type": "code",
   "execution_count": 27,
   "metadata": {},
   "outputs": [
    {
     "name": "stdout",
     "output_type": "stream",
     "text": [
      "ALTER TABLE messages ADD COLUMN oob INTEGER\n"
     ]
    }
   ],
   "source": [
    "print(\"ALTER TABLE \" + Message.TABLENAME + \" ADD COLUMN \" + Message.OOB + \" INTEGER\")"
   ]
  },
  {
   "cell_type": "code",
   "execution_count": 28,
   "metadata": {},
   "outputs": [
    {
     "name": "stdout",
     "output_type": "stream",
     "text": [
      "ALTER TABLE messages ADD COLUMN errorMsg TEXT\n"
     ]
    }
   ],
   "source": [
    "print(\"ALTER TABLE \" + Message.TABLENAME + \" ADD COLUMN \" + Message.ERROR_MESSAGE + \" TEXT\")"
   ]
  },
  {
   "cell_type": "code",
   "execution_count": 29,
   "metadata": {},
   "outputs": [
    {
     "name": "stdout",
     "output_type": "stream",
     "text": [
      "ALTER TABLE messages ADD COLUMN readByMarkers TEXT\n"
     ]
    }
   ],
   "source": [
    "print(\"ALTER TABLE \" + Message.TABLENAME + \" ADD COLUMN \" + Message.READ_BY_MARKERS + \" TEXT\")"
   ]
  },
  {
   "cell_type": "code",
   "execution_count": 30,
   "metadata": {},
   "outputs": [
    {
     "name": "stdout",
     "output_type": "stream",
     "text": [
      "ALTER TABLE messages ADD COLUMN markable NUMBER DEFAULT 0\n"
     ]
    }
   ],
   "source": [
    "print(\"ALTER TABLE \" + Message.TABLENAME + \" ADD COLUMN \" + Message.MARKABLE + \" NUMBER DEFAULT 0\")"
   ]
  },
  {
   "cell_type": "code",
   "execution_count": 31,
   "metadata": {},
   "outputs": [
    {
     "name": "stdout",
     "output_type": "stream",
     "text": [
      "ALTER TABLE messages ADD COLUMN deleted NUMBER DEFAULT 0\n"
     ]
    }
   ],
   "source": [
    "print(\"ALTER TABLE \" + Message.TABLENAME + \" ADD COLUMN \" + Message.DELETED + \" NUMBER DEFAULT 0\")"
   ]
  },
  {
   "cell_type": "code",
   "execution_count": 32,
   "metadata": {},
   "outputs": [
    {
     "name": "stdout",
     "output_type": "stream",
     "text": [
      "ALTER TABLE messages ADD COLUMN bodyLanguage\n"
     ]
    }
   ],
   "source": [
    "print(\"ALTER TABLE \" + Message.TABLENAME + \" ADD COLUMN \" + Message.BODY_LANGUAGE)"
   ]
  },
  {
   "cell_type": "code",
   "execution_count": 33,
   "metadata": {},
   "outputs": [
    {
     "name": "stdout",
     "output_type": "stream",
     "text": [
      "ALTER TABLE messages ADD COLUMN occupantId TEXT\n",
      "ALTER TABLE messages ADD COLUMN reactions TEXT\n"
     ]
    }
   ],
   "source": [
    "print(\"ALTER TABLE \" + Message.TABLENAME + \" ADD COLUMN \" + Message.OCCUPANT_ID + \" TEXT\")\n",
    "print(\"ALTER TABLE \" + Message.TABLENAME + \" ADD COLUMN \" + Message.REACTIONS + \" TEXT\")"
   ]
  },
  {
   "cell_type": "code",
   "execution_count": 34,
   "metadata": {},
   "outputs": [
    {
     "name": "stdout",
     "output_type": "stream",
     "text": [
      "CREATE INDEX message_time_index ON messages(timeSent)\n"
     ]
    }
   ],
   "source": [
    "print(\"CREATE INDEX message_time_index ON \" + Message.TABLENAME + \"(\" + Message.TIME_SENT + \")\")"
   ]
  },
  {
   "cell_type": "code",
   "execution_count": 45,
   "metadata": {},
   "outputs": [
    {
     "name": "stdout",
     "output_type": "stream",
     "text": [
      "CREATE INDEX message_conversation_index ON messages(conversationUuid)\n"
     ]
    }
   ],
   "source": [
    "print(\"CREATE INDEX message_conversation_index ON \" + Message.TABLENAME + \"(\" + Message.CONVERSATION + \")\")"
   ]
  },
  {
   "cell_type": "code",
   "execution_count": 46,
   "metadata": {},
   "outputs": [
    {
     "name": "stdout",
     "output_type": "stream",
     "text": [
      "CREATE INDEX message_deleted_index ON messages(deleted)\n"
     ]
    }
   ],
   "source": [
    "print(\"CREATE INDEX message_deleted_index ON \" + Message.TABLENAME + \"(\" + Message.DELETED + \")\")"
   ]
  },
  {
   "cell_type": "code",
   "execution_count": 47,
   "metadata": {},
   "outputs": [
    {
     "name": "stdout",
     "output_type": "stream",
     "text": [
      "CREATE INDEX message_file_path_index ON messages(relativeFilePath)\n"
     ]
    }
   ],
   "source": [
    "print(\"CREATE INDEX message_file_path_index ON \" + Message.TABLENAME + \"(\" + Message.RELATIVE_FILE_PATH + \")\")"
   ]
  },
  {
   "cell_type": "code",
   "execution_count": 48,
   "metadata": {},
   "outputs": [
    {
     "name": "stdout",
     "output_type": "stream",
     "text": [
      "CREATE INDEX message_type_index ON messages(type)\n"
     ]
    }
   ],
   "source": [
    "print(\"CREATE INDEX message_type_index ON \" + Message.TABLENAME + \"(\" + Message.TYPE + \")\")"
   ]
  },
  {
   "cell_type": "code",
   "execution_count": 49,
   "metadata": {},
   "outputs": [
    {
     "name": "stdout",
     "output_type": "stream",
     "text": [
      "CREATE VIRTUAL TABLE messages_index USING fts4 (uuid,body,notindexed=\"uuid\",content=\"messages\",tokenize='unicode61')\n"
     ]
    }
   ],
   "source": [
    "print(\"CREATE VIRTUAL TABLE messages_index USING fts4 (uuid,body,notindexed=\\\"uuid\\\",content=\\\"\" + Message.TABLENAME + \"\\\",tokenize='unicode61')\")"
   ]
  },
  {
   "cell_type": "code",
   "execution_count": 50,
   "metadata": {},
   "outputs": [
    {
     "name": "stdout",
     "output_type": "stream",
     "text": [
      "CREATE TRIGGER after_message_insert AFTER INSERT ON messages BEGIN INSERT INTO messages_index(rowid,uuid,body) VALUES(NEW.rowid,NEW.uuid,NEW.body); END;\n"
     ]
    }
   ],
   "source": [
    "print(\"CREATE TRIGGER after_message_insert AFTER INSERT ON \" + Message.TABLENAME + \" BEGIN INSERT INTO messages_index(rowid,uuid,body) VALUES(NEW.rowid,NEW.uuid,NEW.body); END;\")"
   ]
  },
  {
   "cell_type": "code",
   "execution_count": 51,
   "metadata": {},
   "outputs": [
    {
     "name": "stdout",
     "output_type": "stream",
     "text": [
      "CREATE TRIGGER after_message_update UPDATE OF uuid,body ON messages BEGIN UPDATE messages_index SET body=NEW.body,uuid=NEW.uuid WHERE rowid=OLD.rowid; END;\n"
     ]
    }
   ],
   "source": [
    "print(\"CREATE TRIGGER after_message_update UPDATE OF uuid,body ON \" + Message.TABLENAME + \" BEGIN UPDATE messages_index SET body=NEW.body,uuid=NEW.uuid WHERE rowid=OLD.rowid; END;\")"
   ]
  },
  {
   "cell_type": "code",
   "execution_count": 52,
   "metadata": {},
   "outputs": [
    {
     "name": "stdout",
     "output_type": "stream",
     "text": [
      "CREATE TRIGGER after_message_delete AFTER DELETE ON messages BEGIN DELETE FROM messages_index WHERE rowid=OLD.rowid; END;\n"
     ]
    }
   ],
   "source": [
    "print(\"CREATE TRIGGER after_message_delete AFTER DELETE ON \" + Message.TABLENAME + \" BEGIN DELETE FROM messages_index WHERE rowid=OLD.rowid; END;\")"
   ]
  },
  {
   "cell_type": "markdown",
   "metadata": {},
   "source": [
    "## Identity"
   ]
  },
  {
   "cell_type": "code",
   "execution_count": 35,
   "metadata": {},
   "outputs": [
    {
     "name": "stdout",
     "output_type": "stream",
     "text": [
      "CREATE TABLE identities(account TEXT,  name TEXT, ownkey INTEGER, fingerprint TEXT, certificate BLOB, trust TEXT, active NUMBER, last_activation NUMBER,key TEXT, FOREIGN KEY(account) REFERENCES accounts(uuid) ON DELETE CASCADE, UNIQUE( account, name, fingerprint) ON CONFLICT IGNORE);\n"
     ]
    }
   ],
   "source": [
    "print(\"CREATE TABLE \"+ SQLiteAxolotlStore.IDENTITIES_TABLENAME + \"(\"+ SQLiteAxolotlStore.ACCOUNT + \" TEXT,  \"+ SQLiteAxolotlStore.NAME + \" TEXT, \"+ SQLiteAxolotlStore.OWN + \" INTEGER, \"+ SQLiteAxolotlStore.FINGERPRINT + \" TEXT, \"+ SQLiteAxolotlStore.CERTIFICATE + \" BLOB, \"+ SQLiteAxolotlStore.TRUST + \" TEXT, \"+ SQLiteAxolotlStore.ACTIVE + \" NUMBER, \"+ SQLiteAxolotlStore.LAST_ACTIVATION + \" NUMBER,\"+ SQLiteAxolotlStore.KEY + \" TEXT, FOREIGN KEY(\"+ SQLiteAxolotlStore.ACCOUNT+ \") REFERENCES \" + Account.TABLENAME + \"(\" + Account.UUID + \") ON DELETE CASCADE, \"+ \"UNIQUE( \" + SQLiteAxolotlStore.ACCOUNT + \", \"+ SQLiteAxolotlStore.NAME + \", \"+ SQLiteAxolotlStore.FINGERPRINT+ \") ON CONFLICT IGNORE\"+ \");\")"
   ]
  },
  {
   "cell_type": "code",
   "execution_count": 36,
   "metadata": {},
   "outputs": [
    {
     "name": "stdout",
     "output_type": "stream",
     "text": [
      "ALTER TABLE identities ADD COLUMN certificate\n"
     ]
    }
   ],
   "source": [
    "print(\"ALTER TABLE \" + SQLiteAxolotlStore.IDENTITIES_TABLENAME + \" ADD COLUMN \" + SQLiteAxolotlStore.CERTIFICATE)"
   ]
  },
  {
   "cell_type": "code",
   "execution_count": 37,
   "metadata": {},
   "outputs": [
    {
     "name": "stdout",
     "output_type": "stream",
     "text": [
      "ALTER TABLE identities ADD COLUMN trust TEXT\n",
      "ALTER TABLE identities ADD COLUMN active NUMBER\n"
     ]
    }
   ],
   "source": [
    "print(\"ALTER TABLE \" + SQLiteAxolotlStore.IDENTITIES_TABLENAME + \" ADD COLUMN \" + SQLiteAxolotlStore.TRUST + \" TEXT\")\n",
    "print(\"ALTER TABLE \" + SQLiteAxolotlStore.IDENTITIES_TABLENAME + \" ADD COLUMN \" + SQLiteAxolotlStore.ACTIVE + \" NUMBER\")"
   ]
  },
  {
   "cell_type": "code",
   "execution_count": 38,
   "metadata": {},
   "outputs": [
    {
     "name": "stdout",
     "output_type": "stream",
     "text": [
      "ALTER TABLE identities ADD COLUMN last_activation NUMBER\n"
     ]
    }
   ],
   "source": [
    "print(\"ALTER TABLE \" + SQLiteAxolotlStore.IDENTITIES_TABLENAME + \" ADD COLUMN \" + SQLiteAxolotlStore.LAST_ACTIVATION + \" NUMBER\")"
   ]
  },
  {
   "cell_type": "markdown",
   "metadata": {},
   "source": [
    "## Session"
   ]
  },
  {
   "cell_type": "code",
   "execution_count": 39,
   "metadata": {},
   "outputs": [
    {
     "name": "stdout",
     "output_type": "stream",
     "text": [
      "CREATE TABLE sessions(account TEXT,  name TEXT, device_id INTEGER, key TEXT, FOREIGN KEY(account) REFERENCES accounts(uuid) ON DELETE CASCADE, UNIQUE( account, name, device_id) ON CONFLICT REPLACE);\n"
     ]
    }
   ],
   "source": [
    "print(\"CREATE TABLE \" + SQLiteAxolotlStore.SESSION_TABLENAME + \"(\"+ SQLiteAxolotlStore.ACCOUNT + \" TEXT,  \"+ SQLiteAxolotlStore.NAME + \" TEXT, \"+ SQLiteAxolotlStore.DEVICE_ID + \" INTEGER, \"+ SQLiteAxolotlStore.KEY + \" TEXT, FOREIGN KEY(\"+ SQLiteAxolotlStore.ACCOUNT+ \") REFERENCES \" + Account.TABLENAME + \"(\" + Account.UUID + \") ON DELETE CASCADE, \"+ \"UNIQUE( \" + SQLiteAxolotlStore.ACCOUNT + \", \"+ SQLiteAxolotlStore.NAME + \", \"+ SQLiteAxolotlStore.DEVICE_ID+ \") ON CONFLICT REPLACE\"+ \");\")"
   ]
  },
  {
   "cell_type": "markdown",
   "metadata": {},
   "source": [
    "## Prekey"
   ]
  },
  {
   "cell_type": "code",
   "execution_count": 40,
   "metadata": {},
   "outputs": [
    {
     "name": "stdout",
     "output_type": "stream",
     "text": [
      "CREATE TABLE prekeys(account TEXT,  id INTEGER, key TEXT, FOREIGN KEY(account) REFERENCES accounts(uuid) ON DELETE CASCADE, UNIQUE( account, id) ON CONFLICT REPLACE);\n"
     ]
    }
   ],
   "source": [
    "print(\"CREATE TABLE \" + SQLiteAxolotlStore.PREKEY_TABLENAME + \"(\"+ SQLiteAxolotlStore.ACCOUNT + \" TEXT,  \"+ SQLiteAxolotlStore.ID + \" INTEGER, \"+ SQLiteAxolotlStore.KEY + \" TEXT, FOREIGN KEY(\"+ SQLiteAxolotlStore.ACCOUNT+ \") REFERENCES \" + Account.TABLENAME + \"(\" + Account.UUID + \") ON DELETE CASCADE, \"+ \"UNIQUE( \" + SQLiteAxolotlStore.ACCOUNT + \", \"+ SQLiteAxolotlStore.ID+ \") ON CONFLICT REPLACE\"+ \");\")"
   ]
  },
  {
   "cell_type": "markdown",
   "metadata": {},
   "source": [
    "## Signed Prekey"
   ]
  },
  {
   "cell_type": "code",
   "execution_count": 41,
   "metadata": {},
   "outputs": [
    {
     "name": "stdout",
     "output_type": "stream",
     "text": [
      "CREATE TABLE signed_prekeys(account TEXT,  id INTEGER, key TEXT, FOREIGN KEY(account) REFERENCES accounts(uuid) ON DELETE CASCADE, UNIQUE( account, id) ON CONFLICT REPLACE);\n"
     ]
    }
   ],
   "source": [
    "print(\"CREATE TABLE \"+ SQLiteAxolotlStore.SIGNED_PREKEY_TABLENAME + \"(\"+ SQLiteAxolotlStore.ACCOUNT + \" TEXT,  \"+ SQLiteAxolotlStore.ID + \" INTEGER, \"+ SQLiteAxolotlStore.KEY + \" TEXT, FOREIGN KEY(\"+ SQLiteAxolotlStore.ACCOUNT+ \") REFERENCES \" + Account.TABLENAME + \"(\" + Account.UUID + \") ON DELETE CASCADE, \"+ \"UNIQUE( \" + SQLiteAxolotlStore.ACCOUNT + \", \"+ SQLiteAxolotlStore.ID+ \") ON CONFLICT REPLACE\" +\");\")"
   ]
  },
  {
   "cell_type": "markdown",
   "metadata": {},
   "source": [
    "## Resolver Result"
   ]
  },
  {
   "cell_type": "code",
   "execution_count": 42,
   "metadata": {},
   "outputs": [
    {
     "name": "stdout",
     "output_type": "stream",
     "text": [
      "create table resolver_results(domain TEXT,hostname TEXT,ip BLOB,priority NUMBER,directTls NUMBER,authenticated NUMBER,port NUMBER,UNIQUE(domain) ON CONFLICT REPLACE);\n"
     ]
    }
   ],
   "source": [
    "\n",
    "print(\"create table \" + RESOLVER_RESULTS_TABLENAME + \"(\"+ Resolver.Result.DOMAIN + \" TEXT,\"+ Resolver.Result.HOSTNAME + \" TEXT,\"+ Resolver.Result.IP + \" BLOB,\"+ Resolver.Result.PRIORITY + \" NUMBER,\"+ Resolver.Result.DIRECT_TLS + \" NUMBER,\"+ Resolver.Result.AUTHENTICATED + \" NUMBER,\"+ Resolver.Result.PORT + \" NUMBER,\"+ \"UNIQUE(\" + Resolver.Result.DOMAIN + \") ON CONFLICT REPLACE\"+ \");\")"
   ]
  },
  {
   "cell_type": "markdown",
   "metadata": {},
   "source": [
    "## Discovery Result"
   ]
  },
  {
   "cell_type": "code",
   "execution_count": 43,
   "metadata": {},
   "outputs": [
    {
     "name": "stdout",
     "output_type": "stream",
     "text": [
      "create table discovery_results(hash TEXT, ver TEXT, result TEXT, UNIQUE(hash, ver) ON CONFLICT REPLACE);\n"
     ]
    }
   ],
   "source": [
    "print(\"create table \"+ ServiceDiscoveryResult.TABLENAME + \"(\"+ ServiceDiscoveryResult.HASH + \" TEXT, \"+ ServiceDiscoveryResult.VER + \" TEXT, \"+ ServiceDiscoveryResult.RESULT + \" TEXT, \"+ \"UNIQUE(\" + ServiceDiscoveryResult.HASH + \", \"+ ServiceDiscoveryResult.VER + \") ON CONFLICT REPLACE);\")"
   ]
  },
  {
   "cell_type": "markdown",
   "metadata": {},
   "source": [
    "## Presence Template"
   ]
  },
  {
   "cell_type": "code",
   "execution_count": 44,
   "metadata": {},
   "outputs": [
    {
     "name": "stdout",
     "output_type": "stream",
     "text": [
      "CREATE TABLE presence_templates(uuid TEXT, last_used NUMBER,message TEXT,status TEXT,UNIQUE(message,status) ON CONFLICT REPLACE);\n"
     ]
    }
   ],
   "source": [
    "print(\"CREATE TABLE \" + PresenceTemplate.TABELNAME + \"(\"+ PresenceTemplate.UUID + \" TEXT, \"+ PresenceTemplate.LAST_USED + \" NUMBER,\"+ PresenceTemplate.MESSAGE + \" TEXT,\"+ PresenceTemplate.STATUS + \" TEXT,\"+ \"UNIQUE(\" + PresenceTemplate.MESSAGE + \",\" + PresenceTemplate.STATUS + \") ON CONFLICT REPLACE);\")"
   ]
  }
 ],
 "metadata": {
  "kernelspec": {
   "display_name": "Python 3",
   "language": "python",
   "name": "python3"
  },
  "language_info": {
   "codemirror_mode": {
    "name": "ipython",
    "version": 3
   },
   "file_extension": ".py",
   "mimetype": "text/x-python",
   "name": "python",
   "nbconvert_exporter": "python",
   "pygments_lexer": "ipython3",
   "version": "3.10.14"
  }
 },
 "nbformat": 4,
 "nbformat_minor": 2
}
