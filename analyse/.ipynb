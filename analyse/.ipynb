{
 "cells": [
  {
   "cell_type": "code",
   "execution_count": 17,
   "metadata": {},
   "outputs": [],
   "source": [
    "import json\n",
    "from dataclasses import dataclass, field\n",
    "from typing import List, Optional\n",
    "\n",
    "@dataclass\n",
    "class Contact:\n",
    "    TABLENAME: str = \"contacts\"\n",
    "    SYSTEMNAME: str = \"systemname\"\n",
    "    SERVERNAME: str = \"servername\"\n",
    "    PRESENCE_NAME: str = \"presence_name\"\n",
    "    JID: str = \"jid\"\n",
    "    OPTIONS: str = \"options\"\n",
    "    SYSTEMACCOUNT: str = \"systemaccount\"\n",
    "    PHOTOURI: str = \"photouri\"\n",
    "    KEYS: str = \"pgpkey\"\n",
    "    ACCOUNT: str = \"accountUuid\"\n",
    "    AVATAR: str = \"avatar\"\n",
    "    LAST_PRESENCE: str = \"last_presence\"\n",
    "    LAST_TIME: str = \"last_time\"\n",
    "    GROUPS: str = \"groups\"\n",
    "    RTP_CAPABILITY: str = \"rtpCapability\"\n",
    "\n",
    "    account_uuid: Optional[str] = None\n",
    "    system_name: Optional[str] = None\n",
    "    server_name: Optional[str] = None\n",
    "    presence_name: Optional[str] = None\n",
    "    common_name: Optional[str] = None\n",
    "    jid: Optional[str] = None\n",
    "    subscription: int = 0\n",
    "    system_account: Optional[str] = None\n",
    "    photo_uri: Optional[str] = None\n",
    "    keys: dict = field(default_factory=dict)\n",
    "    groups: List[str] = field(default_factory=list)\n",
    "    presences: dict = field(default_factory=dict)\n",
    "    account: Optional[str] = None\n",
    "    avatar: Optional[str] = None\n",
    "\n",
    "    m_active: bool = False\n",
    "    m_lastseen: int = 0\n",
    "    m_last_presence: Optional[str] = None\n",
    "    rtp_capability: Optional[str] = None\n",
    "\n",
    "@dataclass\n",
    "class Account:\n",
    "    TABLENAME: str = \"accounts\"\n",
    "    \n",
    "    UUID: str = \"uuid\" # NOT SURE !!!!!!\n",
    "\n",
    "    USERNAME: str = \"username\"\n",
    "    SERVER: str = \"server\"\n",
    "    PASSWORD: str = \"password\"\n",
    "    OPTIONS: str = \"options\"\n",
    "    ROSTERVERSION: str = \"rosterversion\"\n",
    "    KEYS: str = \"keys\"\n",
    "    AVATAR: str = \"avatar\"\n",
    "    DISPLAY_NAME: str = \"display_name\"\n",
    "    HOSTNAME: str = \"hostname\"\n",
    "    PORT: str = \"port\"\n",
    "    STATUS: str = \"status\"\n",
    "    STATUS_MESSAGE: str = \"status_message\"\n",
    "    RESOURCE: str = \"resource\"\n",
    "    PINNED_MECHANISM: str = \"pinned_mechanism\"\n",
    "    PINNED_CHANNEL_BINDING: str = \"pinned_channel_binding\"\n",
    "    FAST_MECHANISM: str = \"fast_mechanism\"\n",
    "    FAST_TOKEN: str = \"fast_token\"\n",
    "\n",
    "    OPTION_DISABLED: int = 1\n",
    "    OPTION_REGISTER: int = 2\n",
    "    OPTION_MAGIC_CREATE: int = 4\n",
    "    OPTION_REQUIRES_ACCESS_MODE_CHANGE: int = 5\n",
    "    OPTION_LOGGED_IN_SUCCESSFULLY: int = 6\n",
    "    OPTION_HTTP_UPLOAD_AVAILABLE: int = 7\n",
    "    OPTION_UNVERIFIED: int = 8\n",
    "    OPTION_FIXED_USERNAME: int = 9\n",
    "    OPTION_QUICKSTART_AVAILABLE: int = 10\n",
    "    OPTION_SOFT_DISABLED: int = 11\n",
    "\n",
    "    KEY_PGP_SIGNATURE: str = \"pgp_signature\"\n",
    "    KEY_PGP_ID: str = \"pgp_id\"\n",
    "    KEY_PINNED_MECHANISM: str = \"pinned_mechanism\"\n",
    "    KEY_PRE_AUTH_REGISTRATION_TOKEN: str = \"pre_auth_registration\"\n",
    "\n",
    "@dataclass\n",
    "class Conversation:\n",
    "    TABLENAME: str = \"conversations\"\n",
    "\n",
    "    STATUS_AVAILABLE: int = 0\n",
    "    STATUS_ARCHIVED: int = 1\n",
    "    \n",
    "    UUID: str = \"uuid\" # NOT SURE !!!!!!\n",
    "\n",
    "    NAME: str = \"name\"\n",
    "    ACCOUNT: str = \"accountUuid\"\n",
    "    CONTACT: str = \"contactUuid\"\n",
    "    CONTACTJID: str = \"contactJid\"\n",
    "    STATUS: str = \"status\"\n",
    "    CREATED: str = \"created\"\n",
    "    MODE: str = \"mode\"\n",
    "    ATTRIBUTES: str = \"attributes\"\n",
    "\n",
    "    ATTRIBUTE_MUTED_TILL: str = \"muted_till\"\n",
    "    ATTRIBUTE_ALWAYS_NOTIFY: str = \"always_notify\"\n",
    "    ATTRIBUTE_LAST_CLEAR_HISTORY: str = \"last_clear_history\"\n",
    "    ATTRIBUTE_FORMERLY_PRIVATE_NON_ANONYMOUS: str = \"formerly_private_non_anonymous\"\n",
    "    ATTRIBUTE_PINNED_ON_TOP: str = \"pinned_on_top\"\n",
    "    ATTRIBUTE_MUC_PASSWORD: str = \"muc_password\"\n",
    "    ATTRIBUTE_MEMBERS_ONLY: str = \"members_only\"\n",
    "    ATTRIBUTE_MODERATED: str = \"moderated\"\n",
    "    ATTRIBUTE_NON_ANONYMOUS: str = \"non_anonymous\"\n",
    "    ATTRIBUTE_NEXT_MESSAGE: str = \"next_message\"\n",
    "    ATTRIBUTE_NEXT_MESSAGE_TIMESTAMP: str = \"next_message_timestamp\"\n",
    "    ATTRIBUTE_CRYPTO_TARGETS: str = \"crypto_targets\"\n",
    "    ATTRIBUTE_NEXT_ENCRYPTION: str = \"next_encryption\"\n",
    "    ATTRIBUTE_CORRECTING_MESSAGE: str = \"correcting_message\""
   ]
  },
  {
   "cell_type": "markdown",
   "metadata": {},
   "source": [
    "## Contact"
   ]
  },
  {
   "cell_type": "code",
   "execution_count": 5,
   "metadata": {},
   "outputs": [
    {
     "name": "stdout",
     "output_type": "stream",
     "text": [
      "create table contacts(accountUuid TEXT, servername TEXT, systemname TEXT,presence_name TEXT,jid TEXT,pgpkey TEXT,photouri TEXT,options NUMBER,systemaccount NUMBER, avatar TEXT, last_presence TEXT, last_time NUMBER, rtpCapability TEXT,groups TEXT, FOREIGN KEY(accountUuid) REFERENCES accounts(uuid) ON DELETE CASCADE, UNIQUE(accountUuid, jid) ON CONFLICT REPLACE);\n"
     ]
    }
   ],
   "source": [
    "print(\"create table \"+ Contact.TABLENAME + \"(\" + Contact.ACCOUNT + \" TEXT, \"+ Contact.SERVERNAME + \" TEXT, \" + Contact.SYSTEMNAME + \" TEXT,\"+ Contact.PRESENCE_NAME + \" TEXT,\"+ Contact.JID + \" TEXT,\" + Contact.KEYS + \" TEXT,\"+ Contact.PHOTOURI + \" TEXT,\" + Contact.OPTIONS + \" NUMBER,\"+ Contact.SYSTEMACCOUNT + \" NUMBER, \" + Contact.AVATAR + \" TEXT, \"+ Contact.LAST_PRESENCE + \" TEXT, \" + Contact.LAST_TIME + \" NUMBER, \"+ Contact.RTP_CAPABILITY + \" TEXT,\"+ Contact.GROUPS + \" TEXT, FOREIGN KEY(\" + Contact.ACCOUNT + \") REFERENCES \"+ Account.TABLENAME + \"(\" + Account.UUID+ \") ON DELETE CASCADE, UNIQUE(\" + Contact.ACCOUNT + \", \"+ Contact.JID + \") ON CONFLICT REPLACE);\")"
   ]
  },
  {
   "cell_type": "code",
   "execution_count": 6,
   "metadata": {},
   "outputs": [
    {
     "name": "stdout",
     "output_type": "stream",
     "text": [
      "ALTER TABLE contacts ADD COLUMN presence_name TEXT\n"
     ]
    }
   ],
   "source": [
    "print(\"ALTER TABLE \" + Contact.TABLENAME + \" ADD COLUMN \" + Contact.PRESENCE_NAME + \" TEXT\")"
   ]
  },
  {
   "cell_type": "code",
   "execution_count": 7,
   "metadata": {},
   "outputs": [
    {
     "name": "stdout",
     "output_type": "stream",
     "text": [
      "ALTER TABLE contacts ADD COLUMN rtpCapability TEXT\n"
     ]
    }
   ],
   "source": [
    "print(\"ALTER TABLE \" + Contact.TABLENAME + \" ADD COLUMN \" + Contact.RTP_CAPABILITY + \" TEXT\")"
   ]
  },
  {
   "cell_type": "markdown",
   "metadata": {},
   "source": [
    "## Account"
   ]
  },
  {
   "cell_type": "code",
   "execution_count": 4,
   "metadata": {},
   "outputs": [
    {
     "name": "stdout",
     "output_type": "stream",
     "text": [
      "create table accounts(uuid TEXT PRIMARY KEY,username TEXT,server TEXT,password TEXT,display_name TEXT, status TEXT,status_message TEXT,rosterversion TEXT,options NUMBER, avatar TEXT, keys TEXT, hostname TEXT, resource TEXT,pinned_mechanism TEXT,pinned_channel_binding TEXT,fast_mechanism TEXT,fast_token TEXT,port NUMBER DEFAULT 5222)\n"
     ]
    }
   ],
   "source": [
    "print(\"create table \" + Account.TABLENAME + \"(\" + Account.UUID + \" TEXT PRIMARY KEY,\"+ Account.USERNAME + \" TEXT,\"+ Account.SERVER + \" TEXT,\"+ Account.PASSWORD + \" TEXT,\"+ Account.DISPLAY_NAME + \" TEXT, \"+ Account.STATUS + \" TEXT,\"+ Account.STATUS_MESSAGE + \" TEXT,\"+ Account.ROSTERVERSION + \" TEXT,\"+ Account.OPTIONS + \" NUMBER, \"+ Account.AVATAR + \" TEXT, \"+ Account.KEYS + \" TEXT, \"+ Account.HOSTNAME + \" TEXT, \"+ Account.RESOURCE + \" TEXT,\"+ Account.PINNED_MECHANISM + \" TEXT,\"+ Account.PINNED_CHANNEL_BINDING + \" TEXT,\"+ Account.FAST_MECHANISM + \" TEXT,\"+ Account.FAST_TOKEN + \" TEXT,\"+ Account.PORT + \" NUMBER DEFAULT 5222)\")"
   ]
  },
  {
   "cell_type": "code",
   "execution_count": 4,
   "metadata": {},
   "outputs": [
    {
     "name": "stdout",
     "output_type": "stream",
     "text": [
      "ALTER TABLE accounts ADD COLUMN avatar TEXT\n"
     ]
    }
   ],
   "source": [
    "print(\"ALTER TABLE \" + Account.TABLENAME + \" ADD COLUMN \" + Account.AVATAR + \" TEXT\")"
   ]
  },
  {
   "cell_type": "code",
   "execution_count": 5,
   "metadata": {},
   "outputs": [
    {
     "name": "stdout",
     "output_type": "stream",
     "text": [
      "ALTER TABLE accounts ADD COLUMN hostname TEXT\n"
     ]
    }
   ],
   "source": [
    "print(\"ALTER TABLE \" + Account.TABLENAME + \" ADD COLUMN \" + Account.HOSTNAME + \" TEXT\")"
   ]
  },
  {
   "cell_type": "code",
   "execution_count": 6,
   "metadata": {},
   "outputs": [
    {
     "name": "stdout",
     "output_type": "stream",
     "text": [
      "ALTER TABLE accounts ADD COLUMN port NUMBER DEFAULT 5222\n"
     ]
    }
   ],
   "source": [
    "print(\"ALTER TABLE \" + Account.TABLENAME + \" ADD COLUMN \" + Account.PORT + \" NUMBER DEFAULT 5222\")"
   ]
  },
  {
   "cell_type": "code",
   "execution_count": 7,
   "metadata": {},
   "outputs": [
    {
     "name": "stdout",
     "output_type": "stream",
     "text": [
      "ALTER TABLE accounts ADD COLUMN status TEXT\n"
     ]
    }
   ],
   "source": [
    "print(\"ALTER TABLE \" + Account.TABLENAME + \" ADD COLUMN \" + Account.STATUS + \" TEXT\")"
   ]
  },
  {
   "cell_type": "code",
   "execution_count": 8,
   "metadata": {},
   "outputs": [
    {
     "name": "stdout",
     "output_type": "stream",
     "text": [
      "ALTER TABLE accounts ADD COLUMN status_message TEXT\n"
     ]
    }
   ],
   "source": [
    "print(\"ALTER TABLE \" + Account.TABLENAME + \" ADD COLUMN \" + Account.STATUS_MESSAGE + \" TEXT\")"
   ]
  },
  {
   "cell_type": "code",
   "execution_count": 9,
   "metadata": {},
   "outputs": [
    {
     "name": "stdout",
     "output_type": "stream",
     "text": [
      "ALTER TABLE accounts ADD COLUMN resource TEXT\n"
     ]
    }
   ],
   "source": [
    "print(\"ALTER TABLE \" + Account.TABLENAME + \" ADD COLUMN \" + Account.RESOURCE + \" TEXT\")"
   ]
  },
  {
   "cell_type": "code",
   "execution_count": 10,
   "metadata": {},
   "outputs": [
    {
     "name": "stdout",
     "output_type": "stream",
     "text": [
      "ALTER TABLE accounts ADD COLUMN pinned_mechanism TEXT\n"
     ]
    }
   ],
   "source": [
    "print(\"ALTER TABLE \" + Account.TABLENAME + \" ADD COLUMN \" + Account.PINNED_MECHANISM + \" TEXT\")"
   ]
  },
  {
   "cell_type": "code",
   "execution_count": 11,
   "metadata": {},
   "outputs": [
    {
     "name": "stdout",
     "output_type": "stream",
     "text": [
      "ALTER TABLE accounts ADD COLUMN pinned_channel_binding TEXT\n"
     ]
    }
   ],
   "source": [
    "print(\"ALTER TABLE \" + Account.TABLENAME + \" ADD COLUMN \" + Account.PINNED_CHANNEL_BINDING + \" TEXT\")"
   ]
  },
  {
   "cell_type": "code",
   "execution_count": 12,
   "metadata": {},
   "outputs": [
    {
     "name": "stdout",
     "output_type": "stream",
     "text": [
      "ALTER TABLE accounts ADD COLUMN fast_mechanism TEXT\n"
     ]
    }
   ],
   "source": [
    "print(\"ALTER TABLE \" + Account.TABLENAME + \" ADD COLUMN \" + Account.FAST_MECHANISM + \" TEXT\")"
   ]
  },
  {
   "cell_type": "code",
   "execution_count": 13,
   "metadata": {},
   "outputs": [
    {
     "name": "stdout",
     "output_type": "stream",
     "text": [
      "ALTER TABLE accounts ADD COLUMN fast_token TEXT\n"
     ]
    }
   ],
   "source": [
    "print(\"ALTER TABLE \" + Account.TABLENAME + \" ADD COLUMN \" + Account.FAST_TOKEN + \" TEXT\")"
   ]
  },
  {
   "cell_type": "markdown",
   "metadata": {},
   "source": [
    "## Conversation"
   ]
  },
  {
   "cell_type": "code",
   "execution_count": 18,
   "metadata": {},
   "outputs": [
    {
     "name": "stdout",
     "output_type": "stream",
     "text": [
      "create table conversations (uuid TEXT PRIMARY KEY, name TEXT, contactUuid TEXT, accountUuid TEXT, contactJid TEXT, created NUMBER, status NUMBER, mode NUMBER, attributes TEXT, FOREIGN KEY(accountUuid) REFERENCES accounts(uuid) ON DELETE CASCADE);\n"
     ]
    }
   ],
   "source": [
    "print(\"create table \" + Conversation.TABLENAME + \" (\" + Conversation.UUID + \" TEXT PRIMARY KEY, \" + Conversation.NAME+ \" TEXT, \" + Conversation.CONTACT + \" TEXT, \"+ Conversation.ACCOUNT + \" TEXT, \" + Conversation.CONTACTJID+ \" TEXT, \" + Conversation.CREATED + \" NUMBER, \"+ Conversation.STATUS + \" NUMBER, \" + Conversation.MODE+ \" NUMBER, \" + Conversation.ATTRIBUTES + \" TEXT, FOREIGN KEY(\"+ Conversation.ACCOUNT + \") REFERENCES \" + Account.TABLENAME+ \"(\" + Account.UUID + \") ON DELETE CASCADE);\")"
   ]
  }
 ],
 "metadata": {
  "kernelspec": {
   "display_name": "Python 3",
   "language": "python",
   "name": "python3"
  },
  "language_info": {
   "codemirror_mode": {
    "name": "ipython",
    "version": 3
   },
   "file_extension": ".py",
   "mimetype": "text/x-python",
   "name": "python",
   "nbconvert_exporter": "python",
   "pygments_lexer": "ipython3",
   "version": "3.10.14"
  }
 },
 "nbformat": 4,
 "nbformat_minor": 2
}
